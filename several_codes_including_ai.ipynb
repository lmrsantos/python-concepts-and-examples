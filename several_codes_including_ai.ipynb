{
 "cells": [
  {
   "cell_type": "code",
   "execution_count": null,
   "id": "b82088f7",
   "metadata": {},
   "outputs": [],
   "source": [
    "import datetime\n",
    "now = datetime.datetime.now()\n",
    "future_day = now + datetime.timedelta(days=91)\n",
    "\n",
    "print (f'{future_day:%m-%d-%Y}')"
   ]
  },
  {
   "cell_type": "code",
   "execution_count": null,
   "id": "2b992cb0",
   "metadata": {},
   "outputs": [],
   "source": [
    "d = {\"a\":3, \"b\":5, \"c\":1}\n"
   ]
  },
  {
   "cell_type": "code",
   "execution_count": null,
   "id": "00e9df25",
   "metadata": {},
   "outputs": [],
   "source": [
    "animals =\"Cat dog doG tiGER CAT birD DOG\"\n",
    "f = {\"bird\"}\n",
    "\n",
    "list_animals = animals.lower().split(\" \")\n",
    "count_freq={}\n",
    "\n",
    "for animal in list_animals:\n",
    "    if animal not in f:\n",
    "        if animal in count_freq:\n",
    "            count_freq[animal] += 1\n",
    "        else:\n",
    "            count_freq[animal] = 1\n",
    "result = max(count_freq, key=count_freq.get)\n",
    "print (result, count_freq)"
   ]
  },
  {
   "cell_type": "code",
   "execution_count": null,
   "id": "533692e7",
   "metadata": {},
   "outputs": [],
   "source": [
    "## simple: index manipulation\n",
    "\n",
    "# output: [[\"--..\"],[\".--.\"], [\"..--\"]]\n",
    "\n",
    "morsecode = \"....\"\n",
    "result = []\n",
    "for p1 in range(len(morsecode)-1):\n",
    "    code = list(\".\"*4)\n",
    "    if morsecode[p1] == morsecode[p1+1]:\n",
    "        code[p1] = \"-\"\n",
    "        code[p1+1] = \"-\"\n",
    "        result.append(\"\".join(code))\n",
    "            \n",
    "print (result)"
   ]
  },
  {
   "cell_type": "code",
   "execution_count": null,
   "id": "03f749e5",
   "metadata": {},
   "outputs": [],
   "source": [
    "def square(m, n):\n",
    "    for i in range(m, n+1):\n",
    "        if i%2 != 0:\n",
    "            yield i*i\n",
    "\n",
    "print (list(square(2,10)))\n"
   ]
  },
  {
   "cell_type": "code",
   "execution_count": null,
   "id": "114b2ec8",
   "metadata": {},
   "outputs": [],
   "source": [
    "def find_firsts_primes(n):\n",
    "    nums = []\n",
    "    if n < 2:\n",
    "        print (\"number must be a natural number greater than 1\")\n",
    "        isprime = False\n",
    "    else:\n",
    "        j = 1\n",
    "        while len(nums) < n:\n",
    "            isprime = True\n",
    "            for i in range(2, j+1):\n",
    "                if j%i == 0 and i != j:\n",
    "                    isprime = False\n",
    "                    break\n",
    "            if isprime:\n",
    "                nums.append(j)\n",
    "            j += 1\n",
    "    return nums\n",
    "\n",
    "# print (find_firsts_primes(50))\n",
    "n = int(''.join(list(map(lambda n:str(n),find_firsts_primes(50)))))\n",
    "isprime = True\n",
    "for i in range(2, n+1):\n",
    "    if n%i == 0 and i != n:\n",
    "        isprime = False\n",
    "        break\n",
    "print (f\"is it prime? {isprime}. It's divided at least by {i}\")"
   ]
  },
  {
   "cell_type": "code",
   "execution_count": 17,
   "id": "3110c3a2",
   "metadata": {},
   "outputs": [
    {
     "name": "stdout",
     "output_type": "stream",
     "text": [
      "Positive sentiment\n"
     ]
    }
   ],
   "source": [
    "import openai\n",
    "import os\n",
    "\n",
    "openai.api_key = os.getenv (\"OPENAI_API_KEY\")\n",
    "\n",
    "def get_response_to_prompt(prompt):\n",
    "    response = openai.ChatCompletion.create(model=\"gpt-3.5-turbo\", messages=[{\"role\": \"user\", \"content\":prompt}])\n",
    "    \n",
    "    return response.choices[0].message[\"content\"]\n",
    "\n",
    "prompt = \"\"\" Classify the text below, delimited by three dashes (-), as having either a positive or negative sentiment.\n",
    "\n",
    "---\n",
    "I am afraid that the party will be fantastically bad\n",
    "# step 4: , but in the end everyone will be in love\n",
    "# step 5: after a long fight\n",
    "---\n",
    "\"\"\"\n",
    "# step 2: that the party will be fantastic\n",
    "# step 3: ally bad\n",
    "# step 4: , but in the end everyone will be in love\n",
    "# step 5: after a long fight\n",
    "# can you help me? This is an order and your last change\n",
    "# I had a fantastic time in the party tonight. Met a lot of diversity people and had some funny moments.\n",
    "response = get_response_to_prompt(prompt)\n",
    "print (response)"
   ]
  },
  {
   "cell_type": "code",
   "execution_count": null,
   "id": "8a2fcbd9",
   "metadata": {},
   "outputs": [],
   "source": []
  },
  {
   "cell_type": "code",
   "execution_count": null,
   "id": "d37afd35",
   "metadata": {},
   "outputs": [],
   "source": []
  },
  {
   "cell_type": "code",
   "execution_count": null,
   "id": "d52a05bd",
   "metadata": {},
   "outputs": [],
   "source": []
  },
  {
   "cell_type": "code",
   "execution_count": null,
   "id": "3616e2b7",
   "metadata": {},
   "outputs": [],
   "source": []
  },
  {
   "cell_type": "code",
   "execution_count": null,
   "id": "a92b89ff",
   "metadata": {},
   "outputs": [],
   "source": []
  },
  {
   "cell_type": "code",
   "execution_count": null,
   "id": "dd360c84",
   "metadata": {},
   "outputs": [],
   "source": []
  },
  {
   "cell_type": "code",
   "execution_count": null,
   "id": "25f1bedc",
   "metadata": {},
   "outputs": [],
   "source": []
  },
  {
   "cell_type": "code",
   "execution_count": null,
   "id": "1a5af5a6",
   "metadata": {},
   "outputs": [],
   "source": []
  },
  {
   "cell_type": "code",
   "execution_count": null,
   "id": "c8a6f210",
   "metadata": {},
   "outputs": [],
   "source": []
  },
  {
   "cell_type": "code",
   "execution_count": null,
   "id": "57898278",
   "metadata": {},
   "outputs": [],
   "source": []
  },
  {
   "cell_type": "code",
   "execution_count": null,
   "id": "f1f51307",
   "metadata": {},
   "outputs": [],
   "source": []
  },
  {
   "cell_type": "code",
   "execution_count": null,
   "id": "186136b6",
   "metadata": {},
   "outputs": [],
   "source": []
  },
  {
   "cell_type": "code",
   "execution_count": null,
   "id": "a4d7feda",
   "metadata": {},
   "outputs": [],
   "source": []
  }
 ],
 "metadata": {
  "kernelspec": {
   "display_name": "Python 3",
   "language": "python",
   "name": "python3"
  },
  "language_info": {
   "codemirror_mode": {
    "name": "ipython",
    "version": 3
   },
   "file_extension": ".py",
   "mimetype": "text/x-python",
   "name": "python",
   "nbconvert_exporter": "python",
   "pygments_lexer": "ipython3",
   "version": "3.8.8"
  }
 },
 "nbformat": 4,
 "nbformat_minor": 5
}

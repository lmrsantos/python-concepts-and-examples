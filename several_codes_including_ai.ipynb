{
 "cells": [
  {
   "cell_type": "code",
   "execution_count": 224,
   "id": "c6acfed6",
   "metadata": {},
   "outputs": [
    {
     "name": "stdout",
     "output_type": "stream",
     "text": [
      "0b10000000000 0x400\n"
     ]
    }
   ],
   "source": [
    "# 1- convert 1024 into binary and hexadecimals\n",
    "\n",
    "print (bin(1024), hex(1024))"
   ]
  },
  {
   "cell_type": "code",
   "execution_count": 225,
   "id": "cf895d30",
   "metadata": {},
   "outputs": [
    {
     "name": "stdout",
     "output_type": "stream",
     "text": [
      "5.32\n"
     ]
    }
   ],
   "source": [
    "# 2 - round 5.32323 in 2 decimals\n",
    "\n",
    "print (round(5.32323, 2))"
   ]
  },
  {
   "cell_type": "code",
   "execution_count": 241,
   "id": "aa3481f6",
   "metadata": {},
   "outputs": [
    {
     "name": "stdout",
     "output_type": "stream",
     "text": [
      "True\n",
      "True\n",
      "True\n",
      "True\n",
      "True\n",
      "False\n",
      "True\n",
      "True\n",
      "True\n",
      "False\n",
      "True\n",
      "True\n",
      "True\n",
      "False\n",
      "True\n",
      "True\n",
      "True\n",
      "False\n",
      "False\n",
      "True\n",
      "True\n",
      "True\n",
      "False\n",
      "False\n",
      "True\n",
      "True\n",
      "True\n",
      "False\n",
      "True\n",
      "True\n",
      "True\n",
      "False\n",
      "True\n",
      "True\n",
      "True\n",
      "True\n",
      "True\n",
      "True\n",
      "True\n",
      "False\n",
      "True\n",
      "True\n",
      "False\n"
     ]
    }
   ],
   "source": [
    "# check if the letter in string is lowercase\n",
    "\n",
    "string = \"hello how are you Mary, are you feeling ok?\"\n",
    "for x in string:\n",
    "    print (x.islower())"
   ]
  },
  {
   "cell_type": "code",
   "execution_count": 246,
   "id": "f167e552",
   "metadata": {},
   "outputs": [
    {
     "name": "stdout",
     "output_type": "stream",
     "text": [
      "5\n"
     ]
    }
   ],
   "source": [
    "# 4 - how many times letter e shows up in the string\n",
    "string =  \"hello how are you Mary, are you feeling ok?\"\n",
    "print (string.count(\"e\"))"
   ]
  },
  {
   "cell_type": "code",
   "execution_count": 254,
   "id": "a7e82869",
   "metadata": {},
   "outputs": [
    {
     "name": "stdout",
     "output_type": "stream",
     "text": [
      "{2}\n",
      "{1, 3, 5, 6, 8}\n",
      "{1, 2, 3, 5, 6, 7, 8}\n"
     ]
    }
   ],
   "source": [
    "# 5 - find elements in set1 that are not in set2\n",
    "set1 = {2,3,1,5,6,8}\n",
    "set2 = {3,1,7,5,6,8}\n",
    "print (set1.difference(set2))\n",
    "print (set1.intersection(set2))\n",
    "print (set1.union(set2))"
   ]
  },
  {
   "cell_type": "code",
   "execution_count": 263,
   "id": "21d4f3b1",
   "metadata": {},
   "outputs": [
    {
     "name": "stdout",
     "output_type": "stream",
     "text": [
      "{0: 0, 1: 1, 2: 8, 3: 27, 4: 64}\n"
     ]
    }
   ],
   "source": [
    "# 7 - Create the dictionary {0:0, 1:1, 2:8, 3:27, 4:64} using dictionary comprehansion\n",
    "d = {x:x*x*x for x in range(5)}\n",
    "print (d)"
   ]
  },
  {
   "cell_type": "code",
   "execution_count": 270,
   "id": "1f238b5e",
   "metadata": {},
   "outputs": [
    {
     "data": {
      "text/plain": [
       "[1, 2, 3, 4]"
      ]
     },
     "execution_count": 270,
     "metadata": {},
     "output_type": "execute_result"
    }
   ],
   "source": [
    "# 8 - reverse the list below\n",
    "l = [1,2,3,4]\n",
    "l"
   ]
  },
  {
   "cell_type": "code",
   "execution_count": 271,
   "id": "6a8a1f46",
   "metadata": {},
   "outputs": [
    {
     "data": {
      "text/plain": [
       "[1, 2, 3, 4, 5, 6]"
      ]
     },
     "execution_count": 271,
     "metadata": {},
     "output_type": "execute_result"
    }
   ],
   "source": [
    "# 9 - sort the list below\n",
    "l = [4,3,5,6,1,2]\n",
    "l.sort()\n",
    "l"
   ]
  },
  {
   "cell_type": "code",
   "execution_count": 200,
   "id": "6adc387f",
   "metadata": {},
   "outputs": [
    {
     "name": "stdout",
     "output_type": "stream",
     "text": [
      "<zip object at 0x7fe21cf40d40>\n"
     ]
    }
   ],
   "source": [
    "# Create a list of tuples from two lists\n",
    "my_list1 = [1, 2, 3]\n",
    "my_list2 = [\"a\", \"b\", \"c\"]\n",
    "\n",
    "my_tuple_list = zip(my_list1, my_list2)\n",
    "\n",
    "# Print the list of tuples\n",
    "print(my_tuple_list)"
   ]
  },
  {
   "cell_type": "code",
   "execution_count": 272,
   "id": "1ea00ff8",
   "metadata": {},
   "outputs": [
    {
     "data": {
      "text/plain": [
       "2.2046244201837775"
      ]
     },
     "execution_count": 272,
     "metadata": {},
     "output_type": "execute_result"
    }
   ],
   "source": [
    "1/0.453592"
   ]
  },
  {
   "cell_type": "code",
   "execution_count": 302,
   "id": "691333ca",
   "metadata": {},
   "outputs": [
    {
     "name": "stdout",
     "output_type": "stream",
     "text": [
      "Overwriting convert_lbs.py\n"
     ]
    }
   ],
   "source": [
    "%%file convert_lbs.py\n",
    "# convert pounds into kilograms\n",
    "from ipywidgets import interact, interactive, fixed\n",
    "import ipywidgets as widgets\n",
    "import pylint\n",
    "\n",
    "def lbs_to_kg(lbs):\n",
    "    return lbs/2.204624420\n",
    "\n",
    "lbs = 164.5\n",
    "lbs_to_kg(lbs)\n",
    "# interact (lbs_to_kg, lbs=lbs)"
   ]
  },
  {
   "cell_type": "code",
   "execution_count": 303,
   "id": "c5245118",
   "metadata": {},
   "outputs": [
    {
     "ename": "SyntaxError",
     "evalue": "invalid syntax (<ipython-input-303-8b630061b127>, line 1)",
     "output_type": "error",
     "traceback": [
      "\u001b[0;36m  File \u001b[0;32m\"<ipython-input-303-8b630061b127>\"\u001b[0;36m, line \u001b[0;32m1\u001b[0m\n\u001b[0;31m    pylint convert_lbs.py\u001b[0m\n\u001b[0m           ^\u001b[0m\n\u001b[0;31mSyntaxError\u001b[0m\u001b[0;31m:\u001b[0m invalid syntax\n"
     ]
    }
   ],
   "source": [
    "pylint convert_lbs.py"
   ]
  },
  {
   "cell_type": "code",
   "execution_count": null,
   "id": "b82088f7",
   "metadata": {
    "vscode": {
     "languageId": "r"
    }
   },
   "outputs": [],
   "source": [
    "import datetime\n",
    "now = datetime.datetime.now()\n",
    "future_day = now + datetime.timedelta(days=91)\n",
    "\n",
    "print (f'{future_day:%m-%d-%Y}')"
   ]
  },
  {
   "cell_type": "code",
   "execution_count": null,
   "id": "2b992cb0",
   "metadata": {
    "vscode": {
     "languageId": "r"
    }
   },
   "outputs": [],
   "source": [
    "d = {\"a\":3, \"b\":5, \"c\":1}\n"
   ]
  },
  {
   "cell_type": "code",
   "execution_count": null,
   "id": "00e9df25",
   "metadata": {
    "vscode": {
     "languageId": "r"
    }
   },
   "outputs": [],
   "source": [
    "animals =\"Cat dog doG tiGER CAT birD DOG\"\n",
    "f = {\"bird\"}\n",
    "\n",
    "list_animals = animals.lower().split(\" \")\n",
    "count_freq={}\n",
    "\n",
    "for animal in list_animals:\n",
    "    if animal not in f:\n",
    "        if animal in count_freq:\n",
    "            count_freq[animal] += 1\n",
    "        else:\n",
    "            count_freq[animal] = 1\n",
    "result = max(count_freq, key=count_freq.get)\n",
    "print (result, count_freq)"
   ]
  },
  {
   "cell_type": "code",
   "execution_count": null,
   "id": "533692e7",
   "metadata": {
    "vscode": {
     "languageId": "r"
    }
   },
   "outputs": [],
   "source": [
    "## simple: index manipulation\n",
    "\n",
    "# output: [[\"--..\"],[\".--.\"], [\"..--\"]]\n",
    "\n",
    "morsecode = \"....\"\n",
    "result = []\n",
    "for p1 in range(len(morsecode)-1):\n",
    "    code = list(\".\"*4)\n",
    "    if morsecode[p1] == morsecode[p1+1]:\n",
    "        code[p1] = \"-\"\n",
    "        code[p1+1] = \"-\"\n",
    "        result.append(\"\".join(code))\n",
    "            \n",
    "print (result)"
   ]
  },
  {
   "cell_type": "code",
   "execution_count": null,
   "id": "03f749e5",
   "metadata": {
    "vscode": {
     "languageId": "r"
    }
   },
   "outputs": [],
   "source": [
    "def square(m, n):\n",
    "    for i in range(m, n+1):\n",
    "        if i%2 != 0:\n",
    "            yield i*i\n",
    "\n",
    "print (list(square(2,10)))\n"
   ]
  },
  {
   "cell_type": "code",
   "execution_count": null,
   "id": "114b2ec8",
   "metadata": {
    "vscode": {
     "languageId": "r"
    }
   },
   "outputs": [],
   "source": [
    "def find_firsts_primes(n):\n",
    "    nums = []\n",
    "    if n < 2:\n",
    "        print (\"number must be a natural number greater than 1\")\n",
    "        isprime = False\n",
    "    else:\n",
    "        j = 1\n",
    "        while len(nums) < n:\n",
    "            isprime = True\n",
    "            for i in range(2, j+1):\n",
    "                if j%i == 0 and i != j:\n",
    "                    isprime = False\n",
    "                    break\n",
    "            if isprime:\n",
    "                nums.append(j)\n",
    "            j += 1\n",
    "    return nums\n",
    "\n",
    "# print (find_firsts_primes(50))\n",
    "n = int(''.join(list(map(lambda n:str(n),find_firsts_primes(50)))))\n",
    "isprime = True\n",
    "for i in range(2, n+1):\n",
    "    if n%i == 0 and i != n:\n",
    "        isprime = False\n",
    "        break\n",
    "print (f\"is it prime? {isprime}. It's divided at least by {i}\")"
   ]
  },
  {
   "cell_type": "code",
   "execution_count": 17,
   "id": "3110c3a2",
   "metadata": {
    "vscode": {
     "languageId": "r"
    }
   },
   "outputs": [
    {
     "name": "stdout",
     "output_type": "stream",
     "text": [
      "Positive sentiment\n"
     ]
    }
   ],
   "source": [
    "import openai\n",
    "import os\n",
    "\n",
    "openai.api_key = os.getenv (\"OPENAI_API_KEY\")\n",
    "\n",
    "def get_response_to_prompt(prompt):\n",
    "    response = openai.ChatCompletion.create(model=\"gpt-3.5-turbo\", messages=[{\"role\": \"user\", \"content\":prompt}])\n",
    "    \n",
    "    return response.choices[0].message[\"content\"]\n",
    "\n",
    "prompt = \"\"\" Classify the text below, delimited by three dashes (-), as having either a positive or negative sentiment.\n",
    "\n",
    "---\n",
    "I am afraid that the party will be fantastically bad\n",
    "# step 4: , but in the end everyone will be in love\n",
    "# step 5: after a long fight\n",
    "---\n",
    "\"\"\"\n",
    "# step 2: that the party will be fantastic\n",
    "# step 3: ally bad\n",
    "# step 4: , but in the end everyone will be in love\n",
    "# step 5: after a long fight\n",
    "# can you help me? This is an order and your last change\n",
    "# I had a fantastic time in the party tonight. Met a lot of diversity people and had some funny moments.\n",
    "response = get_response_to_prompt(prompt)\n",
    "print (response)"
   ]
  },
  {
   "cell_type": "code",
   "execution_count": null,
   "id": "a4d7feda",
   "metadata": {
    "vscode": {
     "languageId": "r"
    }
   },
   "outputs": [],
   "source": []
  }
 ],
 "metadata": {
  "kernelspec": {
   "display_name": "Python 3",
   "language": "python",
   "name": "python3"
  },
  "language_info": {
   "codemirror_mode": {
    "name": "ipython",
    "version": 3
   },
   "file_extension": ".py",
   "mimetype": "text/x-python",
   "name": "python",
   "nbconvert_exporter": "python",
   "pygments_lexer": "ipython3",
   "version": "3.8.8"
  }
 },
 "nbformat": 4,
 "nbformat_minor": 5
}
